{
 "cells": [
  {
   "cell_type": "markdown",
   "id": "8a0317da",
   "metadata": {
    "rise": {
     "backimage": "image2.jpg"
    },
    "slideshow": {
     "slide_type": "slide"
    }
   },
   "source": [
    "<p style=\"font-size:2em;padding-bottom: 0.5em; font-weight: bold;\">\n",
    "E-learning course on <br / >\n",
    "Advanced Neutron Imaging\n",
    "</p> \n",
    "\n",
    "<p style=\"font-size:1.25em;padding-bottom: 0.25em;\">\n",
    "    \n",
    "# Module Number/Introduction to images\n",
    "\n",
    "</p>\n",
    "\n",
    "<p style=\"font-size:1em;\">February 25, 2021</p>\n",
    "<br /><br />\n",
    "<p style=\"font-size:1.25em;padding-bottom: 0.25em; text-align: center;\">Anders Kaestner</p>\n"
   ]
  },
  {
   "cell_type": "markdown",
   "id": "668bd51f",
   "metadata": {
    "slideshow": {
     "slide_type": "slide"
    },
    "toc": true
   },
   "source": [
    "<h1>Contents<span class=\"tocSkip\"></span></h1>\n",
    "<div class=\"toc\"><ul class=\"toc-item\"><li><span><a href=\"#Module-Number/Introduction-to-images\" data-toc-modified-id=\"Module-Number/Introduction-to-images-1\"><span class=\"toc-item-num\">1&nbsp;&nbsp;</span>Module Number/Introduction to images</a></span><ul class=\"toc-item\"><li><span><a href=\"#Training-objectives\" data-toc-modified-id=\"Training-objectives-1.1\"><span class=\"toc-item-num\">1.1&nbsp;&nbsp;</span>Training objectives</a></span></li></ul></li><li><span><a href=\"#What-shall-we-do-with-our-images?\" data-toc-modified-id=\"What-shall-we-do-with-our-images?-2\"><span class=\"toc-item-num\">2&nbsp;&nbsp;</span>What shall we do with our images?</a></span><ul class=\"toc-item\"><li><span><a href=\"#You-have-data...\" data-toc-modified-id=\"You-have-data...-2.1\"><span class=\"toc-item-num\">2.1&nbsp;&nbsp;</span>You have data...</a></span><ul class=\"toc-item\"><li><span><a href=\"#Important-questions\" data-toc-modified-id=\"Important-questions-2.1.1\"><span class=\"toc-item-num\">2.1.1&nbsp;&nbsp;</span>Important questions</a></span></li><li><span><a href=\"#Which-information-do-you-expect-from-the-data\" data-toc-modified-id=\"Which-information-do-you-expect-from-the-data-2.1.2\"><span class=\"toc-item-num\">2.1.2&nbsp;&nbsp;</span>Which information do you expect from the data</a></span></li></ul></li><li><span><a href=\"#Measurements-are-rarely-perfect\" data-toc-modified-id=\"Measurements-are-rarely-perfect-2.2\"><span class=\"toc-item-num\">2.2&nbsp;&nbsp;</span>Measurements are rarely perfect</a></span></li><li><span><a href=\"#Questions\" data-toc-modified-id=\"Questions-2.3\"><span class=\"toc-item-num\">2.3&nbsp;&nbsp;</span>Questions</a></span></li></ul></li><li><span><a href=\"#Images\" data-toc-modified-id=\"Images-3\"><span class=\"toc-item-num\">3&nbsp;&nbsp;</span>Images</a></span><ul class=\"toc-item\"><li><span><a href=\"#Define-an-image\" data-toc-modified-id=\"Define-an-image-3.1\"><span class=\"toc-item-num\">3.1&nbsp;&nbsp;</span>Define an image</a></span><ul class=\"toc-item\"><li><span><a href=\"#Different-types-of-images\" data-toc-modified-id=\"Different-types-of-images-3.1.1\"><span class=\"toc-item-num\">3.1.1&nbsp;&nbsp;</span>Different types of images</a></span></li></ul></li><li><span><a href=\"#Pixel-size-and-resolution\" data-toc-modified-id=\"Pixel-size-and-resolution-3.2\"><span class=\"toc-item-num\">3.2&nbsp;&nbsp;</span>Pixel size and resolution</a></span><ul class=\"toc-item\"><li><span><a href=\"#Edges-at-different-resolutions\" data-toc-modified-id=\"Edges-at-different-resolutions-3.2.1\"><span class=\"toc-item-num\">3.2.1&nbsp;&nbsp;</span>Edges at different resolutions</a></span></li></ul></li><li><span><a href=\"#Image-intensity\" data-toc-modified-id=\"Image-intensity-3.3\"><span class=\"toc-item-num\">3.3&nbsp;&nbsp;</span>Image intensity</a></span><ul class=\"toc-item\"><li><span><a href=\"#The-histogram\" data-toc-modified-id=\"The-histogram-3.3.1\"><span class=\"toc-item-num\">3.3.1&nbsp;&nbsp;</span>The histogram</a></span></li><li><span><a href=\"#Visualizing-gray-levels\" data-toc-modified-id=\"Visualizing-gray-levels-3.3.2\"><span class=\"toc-item-num\">3.3.2&nbsp;&nbsp;</span>Visualizing gray levels</a></span></li><li><span><a href=\"#Brightness-and-contrast\" data-toc-modified-id=\"Brightness-and-contrast-3.3.3\"><span class=\"toc-item-num\">3.3.3&nbsp;&nbsp;</span>Brightness and contrast</a></span></li></ul></li><li><span><a href=\"#Pixelwise-operations\" data-toc-modified-id=\"Pixelwise-operations-3.4\"><span class=\"toc-item-num\">3.4&nbsp;&nbsp;</span>Pixelwise operations</a></span></li><li><span><a href=\"#Questions\" data-toc-modified-id=\"Questions-3.5\"><span class=\"toc-item-num\">3.5&nbsp;&nbsp;</span>Questions</a></span></li></ul></li><li><span><a href=\"#Noise-in-images\" data-toc-modified-id=\"Noise-in-images-4\"><span class=\"toc-item-num\">4&nbsp;&nbsp;</span>Noise in images</a></span><ul class=\"toc-item\"><li><span><a href=\"#Questions\" data-toc-modified-id=\"Questions-4.1\"><span class=\"toc-item-num\">4.1&nbsp;&nbsp;</span>Questions</a></span></li></ul></li><li><span><a href=\"#Summary\" data-toc-modified-id=\"Summary-5\"><span class=\"toc-item-num\">5&nbsp;&nbsp;</span>Summary</a></span></li></ul></div>"
   ]
  },
  {
   "cell_type": "markdown",
   "id": "cfd063f9",
   "metadata": {
    "slideshow": {
     "slide_type": "slide"
    }
   },
   "source": [
    "## Training objectives\n",
    "\n",
    "- Terminal Training Objectives:\n",
    "    - Obtain an awareness that numerical methods are needed for the quantitative interpretation of images.\n",
    "    - Understand the concept of an image processing workflow.\n",
    "\n",
    "- Enabling training objectives:\n",
    "    - Understanding that the analysis objectives decide the choice of strategy and tools.\n",
    "    - Basic definitions of \n",
    "        - images\n",
    "        - gray levels\n",
    "        - visibility\n",
    "        - noise\n"
   ]
  },
  {
   "cell_type": "markdown",
   "id": "2bf87259",
   "metadata": {
    "slideshow": {
     "slide_type": "slide"
    }
   },
   "source": [
    "# What shall we do with our images?"
   ]
  },
  {
   "cell_type": "markdown",
   "id": "1d983f16",
   "metadata": {
    "slideshow": {
     "slide_type": "subslide"
    }
   },
   "source": [
    "## You have data...\n",
    "\n",
    "Imaging experiments produce large amounts of data\n",
    "\n",
    "![Experiment data](figures/experimentdata.svg)"
   ]
  },
  {
   "cell_type": "markdown",
   "id": "283f5103",
   "metadata": {
    "slideshow": {
     "slide_type": "subslide"
    }
   },
   "source": [
    "### Important questions\n",
    "\n",
    "What is the purpose of the experiment?\n",
    "\n",
    "- Qualitative visual analysis using 3D visualization\n",
    "- Sample characterization\n",
    "- Determine process parameters\n",
    "- Count and measure size of features\n",
    "- etc.\n",
    "\n"
   ]
  },
  {
   "cell_type": "markdown",
   "id": "3b554b2b",
   "metadata": {
    "slideshow": {
     "slide_type": "subslide"
    }
   },
   "source": [
    "### Which information do you expect from the data\n",
    "\n",
    "\n",
    "| Intensity  | Geometry |\n",
    "|:----------|:----------|\n",
    "| Material composition | Identify features |\n",
    "| Material transport   | Volume |\n",
    "| Physical quantities | Shape |\n",
    "\n",
    "The information you want to quantify affects:\n",
    "- The choice of processing method\n",
    "- The experiment strategy \n",
    "- The choice of analysis tools\n"
   ]
  },
  {
   "cell_type": "markdown",
   "id": "55e7b011",
   "metadata": {
    "slideshow": {
     "slide_type": "subslide"
    }
   },
   "source": [
    "## Measurements are rarely perfect"
   ]
  },
  {
   "cell_type": "markdown",
   "id": "f2a791f1",
   "metadata": {
    "slideshow": {
     "slide_type": "subslide"
    }
   },
   "source": [
    "## Questions"
   ]
  },
  {
   "cell_type": "markdown",
   "id": "a9eb929b",
   "metadata": {
    "slideshow": {
     "slide_type": "slide"
    }
   },
   "source": [
    "# Images"
   ]
  },
  {
   "cell_type": "markdown",
   "id": "42e285fe",
   "metadata": {
    "slideshow": {
     "slide_type": "subslide"
    }
   },
   "source": [
    "## Define an image"
   ]
  },
  {
   "cell_type": "markdown",
   "id": "b9121307",
   "metadata": {
    "slideshow": {
     "slide_type": "subslide"
    }
   },
   "source": [
    "### Different types of images"
   ]
  },
  {
   "cell_type": "markdown",
   "id": "6fc04120",
   "metadata": {
    "slideshow": {
     "slide_type": "subslide"
    }
   },
   "source": [
    "## Pixel size and resolution "
   ]
  },
  {
   "cell_type": "markdown",
   "id": "33c05495",
   "metadata": {
    "slideshow": {
     "slide_type": "subslide"
    }
   },
   "source": [
    "### Edges at different resolutions\n"
   ]
  },
  {
   "cell_type": "markdown",
   "id": "20afbe30",
   "metadata": {
    "slideshow": {
     "slide_type": "subslide"
    }
   },
   "source": [
    "## Image intensity"
   ]
  },
  {
   "cell_type": "markdown",
   "id": "49bcb352",
   "metadata": {
    "slideshow": {
     "slide_type": "subslide"
    }
   },
   "source": [
    "### The histogram"
   ]
  },
  {
   "cell_type": "markdown",
   "id": "a5939638",
   "metadata": {
    "slideshow": {
     "slide_type": "subslide"
    }
   },
   "source": [
    "### Visualizing gray levels"
   ]
  },
  {
   "cell_type": "markdown",
   "id": "bc22fa94",
   "metadata": {
    "slideshow": {
     "slide_type": "subslide"
    }
   },
   "source": [
    "### Brightness and contrast"
   ]
  },
  {
   "cell_type": "markdown",
   "id": "0d35f320",
   "metadata": {
    "slideshow": {
     "slide_type": "subslide"
    }
   },
   "source": [
    "## Pixelwise operations"
   ]
  },
  {
   "cell_type": "markdown",
   "id": "0478a657",
   "metadata": {
    "slideshow": {
     "slide_type": "subslide"
    }
   },
   "source": [
    "## Questions"
   ]
  },
  {
   "cell_type": "markdown",
   "id": "f9dfdfc5",
   "metadata": {
    "slideshow": {
     "slide_type": "slide"
    }
   },
   "source": [
    "# Noise in images"
   ]
  },
  {
   "cell_type": "code",
   "execution_count": null,
   "id": "fafe34c9",
   "metadata": {},
   "outputs": [],
   "source": []
  },
  {
   "cell_type": "code",
   "execution_count": null,
   "id": "1d78d289",
   "metadata": {},
   "outputs": [],
   "source": []
  },
  {
   "cell_type": "code",
   "execution_count": null,
   "id": "a7b45f46",
   "metadata": {},
   "outputs": [],
   "source": []
  },
  {
   "cell_type": "markdown",
   "id": "f8051a7e",
   "metadata": {},
   "source": [
    "## Questions"
   ]
  },
  {
   "cell_type": "markdown",
   "id": "ea93c06b",
   "metadata": {
    "slideshow": {
     "slide_type": "slide"
    }
   },
   "source": [
    "# Summary \n"
   ]
  },
  {
   "cell_type": "code",
   "execution_count": null,
   "id": "14be4977",
   "metadata": {},
   "outputs": [],
   "source": []
  }
 ],
 "metadata": {
  "celltoolbar": "Slideshow",
  "kernelspec": {
   "display_name": "Python 3",
   "language": "python",
   "name": "python3"
  },
  "language_info": {
   "codemirror_mode": {
    "name": "ipython",
    "version": 3
   },
   "file_extension": ".py",
   "mimetype": "text/x-python",
   "name": "python",
   "nbconvert_exporter": "python",
   "pygments_lexer": "ipython3",
   "version": "3.8.8"
  },
  "rise": {
   "autolaunch": true,
   "backimage": "image1.png",
   "enable_chalkboard": true,
   "start_slideshow_at": "beginning"
  },
  "toc": {
   "base_numbering": 1,
   "nav_menu": {},
   "number_sections": true,
   "sideBar": true,
   "skip_h1_title": false,
   "title_cell": "Contents",
   "title_sidebar": "Contents",
   "toc_cell": true,
   "toc_position": {
    "height": "calc(100% - 180px)",
    "left": "10px",
    "top": "150px",
    "width": "517.1691284179688px"
   },
   "toc_section_display": true,
   "toc_window_display": false
  }
 },
 "nbformat": 4,
 "nbformat_minor": 5
}
