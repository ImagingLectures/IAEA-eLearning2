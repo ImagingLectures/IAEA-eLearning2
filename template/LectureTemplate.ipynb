{
 "cells": [
  {
   "cell_type": "markdown",
   "id": "8a0317da",
   "metadata": {
    "rise": {
     "backimage": "image2.jpg"
    },
    "slideshow": {
     "slide_type": "slide"
    }
   },
   "source": [
    "<p style=\"font-size:2em;padding-bottom: 0.5em; font-weight: bold;\">\n",
    "E-learning course on <br / >\n",
    "Advanced Neutron Imaging\n",
    "</p> \n",
    "\n",
    "<p style=\"font-size:1.25em;padding-bottom: 0.25em;\">\n",
    "    \n",
    "# Module Number/Name\n",
    "\n",
    "</p>\n",
    "\n",
    "<p style=\"font-size:1em;\">February 25, 2021</p>\n",
    "<br /><br />\n",
    "<p style=\"font-size:1.25em;padding-bottom: 0.25em; text-align: center;\">Author name(s)</p>\n"
   ]
  },
  {
   "cell_type": "markdown",
   "id": "668bd51f",
   "metadata": {
    "slideshow": {
     "slide_type": "slide"
    },
    "toc": true
   },
   "source": [
    "<h1>Contents<span class=\"tocSkip\"></span></h1>\n",
    "<div class=\"toc\"><ul class=\"toc-item\"><li><span><a href=\"#Module-Number/Name\" data-toc-modified-id=\"Module-Number/Name-1\"><span class=\"toc-item-num\">1&nbsp;&nbsp;</span>Module Number/Name</a></span><ul class=\"toc-item\"><li><span><a href=\"#Training-objectives\" data-toc-modified-id=\"Training-objectives-1.1\"><span class=\"toc-item-num\">1.1&nbsp;&nbsp;</span>Training objectives</a></span></li></ul></li><li><span><a href=\"#Chapter-title\" data-toc-modified-id=\"Chapter-title-2\"><span class=\"toc-item-num\">2&nbsp;&nbsp;</span>Chapter title</a></span><ul class=\"toc-item\"><li><span><a href=\"#Slide\" data-toc-modified-id=\"Slide-2.1\"><span class=\"toc-item-num\">2.1&nbsp;&nbsp;</span>Slide</a></span></li></ul></li><li><span><a href=\"#Chapter-title\" data-toc-modified-id=\"Chapter-title-3\"><span class=\"toc-item-num\">3&nbsp;&nbsp;</span>Chapter title</a></span></li><li><span><a href=\"#Summary\" data-toc-modified-id=\"Summary-4\"><span class=\"toc-item-num\">4&nbsp;&nbsp;</span>Summary</a></span></li></ul></div>"
   ]
  },
  {
   "cell_type": "markdown",
   "id": "cfd063f9",
   "metadata": {
    "slideshow": {
     "slide_type": "slide"
    }
   },
   "source": [
    "## Training objectives\n",
    "\n",
    "- Terminal Training Objectives:\n",
    "    - Define the concept and approaches to Advanced Neutron Imaging. \n",
    "- Enabling training objectives:\n",
    "    - Provide an overview of the milestones in the development of NI 2.0;\n",
    "    - Explain the impact of these milestones.\n"
   ]
  },
  {
   "cell_type": "markdown",
   "id": "2bf87259",
   "metadata": {
    "slideshow": {
     "slide_type": "slide"
    }
   },
   "source": [
    "# Chapter title"
   ]
  },
  {
   "cell_type": "markdown",
   "id": "1d983f16",
   "metadata": {
    "slideshow": {
     "slide_type": "slide"
    }
   },
   "source": [
    "## Slide"
   ]
  },
  {
   "cell_type": "markdown",
   "id": "a9eb929b",
   "metadata": {
    "slideshow": {
     "slide_type": "slide"
    }
   },
   "source": [
    "# Chapter title"
   ]
  },
  {
   "cell_type": "markdown",
   "id": "ea93c06b",
   "metadata": {
    "slideshow": {
     "slide_type": "slide"
    }
   },
   "source": [
    "# Summary \n",
    "\n",
    "<a class=\"anchor\" id=\"chapter1\"></a>\n",
    "\n",
    "- This bla bla\n",
    "- That bla bli\n",
    "- Usw usf\n"
   ]
  },
  {
   "cell_type": "code",
   "execution_count": null,
   "id": "14be4977",
   "metadata": {},
   "outputs": [],
   "source": []
  }
 ],
 "metadata": {
  "celltoolbar": "Slideshow",
  "kernelspec": {
   "display_name": "Python 3",
   "language": "python",
   "name": "python3"
  },
  "language_info": {
   "codemirror_mode": {
    "name": "ipython",
    "version": 3
   },
   "file_extension": ".py",
   "mimetype": "text/x-python",
   "name": "python",
   "nbconvert_exporter": "python",
   "pygments_lexer": "ipython3",
   "version": "3.8.8"
  },
  "rise": {
   "autolaunch": true,
   "backimage": "image1.png",
   "enable_chalkboard": true,
   "start_slideshow_at": "beginning"
  },
  "toc": {
   "base_numbering": 1,
   "nav_menu": {},
   "number_sections": true,
   "sideBar": true,
   "skip_h1_title": false,
   "title_cell": "Contents",
   "title_sidebar": "Contents",
   "toc_cell": true,
   "toc_position": {
    "height": "calc(100% - 180px)",
    "left": "10px",
    "top": "150px",
    "width": "517.1691284179688px"
   },
   "toc_section_display": true,
   "toc_window_display": false
  }
 },
 "nbformat": 4,
 "nbformat_minor": 5
}
