{
 "cells": [
  {
   "cell_type": "markdown",
   "id": "8a0317da",
   "metadata": {
    "rise": {
     "backimage": "image2.jpg"
    },
    "slideshow": {
     "slide_type": "slide"
    }
   },
   "source": [
    "<p style=\"font-size:2em;padding-bottom: 0.5em; font-weight: bold;\">\n",
    "E-learning course on <br / >\n",
    "Advanced Neutron Imaging\n",
    "</p> \n",
    "\n",
    "<p style=\"font-size:1.25em;padding-bottom: 0.25em;\">\n",
    "    \n",
    "# Module Number/Name\n",
    "\n",
    "</p>\n",
    "\n",
    "<p style=\"font-size:1em;\">February 25, 2021</p>\n",
    "<br /><br />\n",
    "<p style=\"font-size:1.25em;padding-bottom: 0.25em; text-align: center;\">Author name(s)</p>\n"
   ]
  },
  {
   "cell_type": "markdown",
   "id": "668bd51f",
   "metadata": {
    "slideshow": {
     "slide_type": "slide"
    },
    "toc": true
   },
   "source": [
    "<h1>Contents<span class=\"tocSkip\"></span></h1>\n",
    "<div class=\"toc\"><ul class=\"toc-item\"><li><span><a href=\"#Module-Number/Name\" data-toc-modified-id=\"Module-Number/Name-1\"><span class=\"toc-item-num\">1&nbsp;&nbsp;</span>Module Number/Name</a></span><ul class=\"toc-item\"><li><span><a href=\"#Training-objectives\" data-toc-modified-id=\"Training-objectives-1.1\"><span class=\"toc-item-num\">1.1&nbsp;&nbsp;</span>Training objectives</a></span></li></ul></li><li><span><a href=\"#How-to-use-this-template\" data-toc-modified-id=\"How-to-use-this-template-2\"><span class=\"toc-item-num\">2&nbsp;&nbsp;</span>How to use this template</a></span><ul class=\"toc-item\"><li><span><a href=\"#Use-Jupyter\" data-toc-modified-id=\"Use-Jupyter-2.1\"><span class=\"toc-item-num\">2.1&nbsp;&nbsp;</span>Use Jupyter</a></span><ul class=\"toc-item\"><li><span><a href=\"#Install-some-additional-modules\" data-toc-modified-id=\"Install-some-additional-modules-2.1.1\"><span class=\"toc-item-num\">2.1.1&nbsp;&nbsp;</span>Install some additional modules</a></span></li><li><span><a href=\"#Activate-extensions\" data-toc-modified-id=\"Activate-extensions-2.1.2\"><span class=\"toc-item-num\">2.1.2&nbsp;&nbsp;</span>Activate extensions</a></span></li></ul></li><li><span><a href=\"#Creating-slides\" data-toc-modified-id=\"Creating-slides-2.2\"><span class=\"toc-item-num\">2.2&nbsp;&nbsp;</span>Creating slides</a></span></li></ul></li><li><span><a href=\"#Slide-elements\" data-toc-modified-id=\"Slide-elements-3\"><span class=\"toc-item-num\">3&nbsp;&nbsp;</span>Slide elements</a></span><ul class=\"toc-item\"><li><span><a href=\"#Equations\" data-toc-modified-id=\"Equations-3.1\"><span class=\"toc-item-num\">3.1&nbsp;&nbsp;</span>Equations</a></span></li><li><span><a href=\"#Tables\" data-toc-modified-id=\"Tables-3.2\"><span class=\"toc-item-num\">3.2&nbsp;&nbsp;</span>Tables</a></span></li><li><span><a href=\"#Python-code\" data-toc-modified-id=\"Python-code-3.3\"><span class=\"toc-item-num\">3.3&nbsp;&nbsp;</span>Python code</a></span></li><li><span><a href=\"#Images\" data-toc-modified-id=\"Images-3.4\"><span class=\"toc-item-num\">3.4&nbsp;&nbsp;</span>Images</a></span></li><li><span><a href=\"#Videos\" data-toc-modified-id=\"Videos-3.5\"><span class=\"toc-item-num\">3.5&nbsp;&nbsp;</span>Videos</a></span></li><li><span><a href=\"#Links\" data-toc-modified-id=\"Links-3.6\"><span class=\"toc-item-num\">3.6&nbsp;&nbsp;</span>Links</a></span></li></ul></li><li><span><a href=\"#Summary\" data-toc-modified-id=\"Summary-4\"><span class=\"toc-item-num\">4&nbsp;&nbsp;</span>Summary</a></span></li></ul></div>"
   ]
  },
  {
   "cell_type": "markdown",
   "id": "cfd063f9",
   "metadata": {
    "slideshow": {
     "slide_type": "slide"
    }
   },
   "source": [
    "## Training objectives\n",
    "\n",
    "- Terminal Training Objectives:\n",
    "    - Define the concept and approaches to Advanced Neutron Imaging. \n",
    "- Enabling training objectives:\n",
    "    - Provide an overview of the milestones in the development of NI 2.0;\n",
    "    - Explain the impact of these milestones.\n"
   ]
  },
  {
   "cell_type": "markdown",
   "id": "2bf87259",
   "metadata": {
    "slideshow": {
     "slide_type": "slide"
    }
   },
   "source": [
    "# How to use this template"
   ]
  },
  {
   "cell_type": "markdown",
   "id": "1d983f16",
   "metadata": {
    "slideshow": {
     "slide_type": "slide"
    }
   },
   "source": [
    "## Use Jupyter\n",
    "- Use jupyter. Jupyter-lab has many attractive features, but does not support slides.\n",
    "- The easiest way to work with python and jupyter is to install [Anaconda](https://www.anaconda.com/products/individual). Anaconda is bundle of tools and is already prepared for most applications we would need.\n",
    "\n",
    "### Install some additional modules\n",
    "- Install nbextensions ```conda install -c conda-forge jupyter_nbextensions_configurator```\n",
    "- Install RISE, this is a package that enables slides in jupyter ```conda install -c conda-forge rise```\n",
    "\n",
    "### Activate extensions\n",
    "The installed extensions need to be activated:\n",
    "- RISE - presentations.\n",
    "- ToC - Automatically generates table of contents."
   ]
  },
  {
   "cell_type": "markdown",
   "id": "7748f0e8",
   "metadata": {
    "slideshow": {
     "slide_type": "slide"
    }
   },
   "source": [
    "## Creating slides\n",
    "Each cell in python can be configured to be a slide or a part of a slide. You have to make some preparations for this.\n",
    "- You can control how each cell should act\n",
    "    - Code \\- here you can enter python code to execute\n",
    "    - Markdown \\- Formatted text cell. This is the place to enter text for your slides (titles, information, etc.).\n",
    "    - Raw NBconvert \\- Low level cell control. Usually not needed.\n",
    "- Go to the jupyter meny _View_ and select _Cell toolbar_ option _Slideshow_. This activates a drop-down menu in each jupyter cell with the options\n",
    "    - \\- , include in the previous slide\n",
    "    - Slide, a main slide topic\n",
    "    - Sub-slide, sub-slide topic\n",
    "    - Fragment, incrementally add material to a slide\n",
    "    - Skip, don't include the material in the cell as a slide.\n",
    "    - Notes, Note are for more detailed information than you want to add in the slide. The notes are also added to a lecture script if you plan to write such. \n"
   ]
  },
  {
   "cell_type": "markdown",
   "id": "a9eb929b",
   "metadata": {
    "slideshow": {
     "slide_type": "slide"
    }
   },
   "source": [
    "# Slide elements"
   ]
  },
  {
   "cell_type": "markdown",
   "id": "d3c5dea9",
   "metadata": {
    "slideshow": {
     "slide_type": "slide"
    }
   },
   "source": [
    "## Equations\n",
    "In RISE you enter the equations using LaTex\n",
    "```$$I=I_0\\,e^{-\\int_L \\mu(u)\\,du}$$``` gives\n",
    "\n",
    "$$I=I_0\\,e^{-\\int_L \\mu(u)\\,du}$$\n",
    "\n",
    "or as inline in a line ```$I=I_0\\,e^{-\\int_L \\mu(u)\\,du}$``` $I=I_0\\,e^{-\\int_L \\mu(u)\\,du}$.\n",
    "\n",
    "The difference is using one or two \\$ signs."
   ]
  },
  {
   "cell_type": "markdown",
   "id": "f4992017",
   "metadata": {
    "slideshow": {
     "slide_type": "slide"
    }
   },
   "source": [
    "## Tables\n",
    "\n",
    "```\n",
    "| Tables        | Are           | Cool  |\n",
    "| ------------- |:-------------:| -----:|\n",
    "| col 3 is      | right-aligned | 1600 |\n",
    "| col 2 is      | centered      |   12 |\n",
    "| zebra stripes | are neat      |    1 |\n",
    "```\n",
    "\n",
    "Results in\n",
    "\n",
    "| Tables        | Are           | Cool  |\n",
    "| ------------- |:-------------:| -----:|\n",
    "| col 3 is      | right-aligned | 1600 |\n",
    "| col 2 is      | centered      |   12 |\n",
    "| zebra stripes | are neat      |    1 |\n",
    "\n",
    "__Note__ The must be an empty line before and after."
   ]
  },
  {
   "cell_type": "markdown",
   "id": "4c220f8d",
   "metadata": {
    "slideshow": {
     "slide_type": "slide"
    }
   },
   "source": [
    "## Python code\n"
   ]
  },
  {
   "cell_type": "code",
   "execution_count": 7,
   "id": "f37fc7ec",
   "metadata": {},
   "outputs": [
    {
     "data": {
      "image/png": "[encoded data removed]",
      "text/plain": [
       "<Figure size 432x288 with 1 Axes>"
      ]
     },
     "metadata": {
      "needs_background": "light"
     },
     "output_type": "display_data"
    }
   ],
   "source": [
    "import numpy as np\n",
    "import matplotlib.pyplot as plt\n",
    "\n",
    "x=np.linspace(0,np.pi,100)\n",
    "plt.plot(x,np.sin(2*x));"
   ]
  },
  {
   "cell_type": "markdown",
   "id": "f7aaf38e",
   "metadata": {
    "slideshow": {
     "slide_type": "slide"
    }
   },
   "source": [
    "## Images\n",
    "\n",
    "Images can be included using MarkDown \n",
    "![Some text](image5.png)\n",
    "\n",
    "or html which gives you better control over the formatting\n",
    "\n",
    "<img src=\"image5.png\" style=\"height:10%\" />\n",
    "\n",
    "__Note:__ html formatted figures must have an empty line before and after."
   ]
  },
  {
   "cell_type": "markdown",
   "id": "154e55ad",
   "metadata": {
    "slideshow": {
     "slide_type": "slide"
    }
   },
   "source": [
    "## Videos\n",
    "Videos are best included using html code like\n",
    "\n",
    "```<video src=\"lindif_iter.mp4\" type=\"video/mp4\" controls autoplay loop height=\"200px\">```\n",
    "\n",
    "<video src=\"lindif_iter.mp4\" type=\"video/mp4\" controls autoplay loop height=\"200px\">"
   ]
  },
  {
   "cell_type": "markdown",
   "id": "2ce38c0d",
   "metadata": {
    "slideshow": {
     "slide_type": "slide"
    }
   },
   "source": [
    "## Links\n",
    "\n",
    "Links are added using the following Markdown syntax ```[description](link)```.\n",
    "\n",
    "Example: \n",
    "\n",
    "\n",
    "```[Google](https://www.google.com)```\n",
    "\n",
    "Gives you \n",
    "\n",
    "[Google](https://www.google.com)\n",
    "\n",
    "Use links to cite a paper\n",
    "```[A. Kaestner et al., NIMA, 2011](http://dx.doi.org/10.1016/j.nima.2011.08.022)```\n",
    "\n",
    "[A. Kaestner et al., NIMA, 2011](http://dx.doi.org/10.1016/j.nima.2011.08.022)"
   ]
  },
  {
   "cell_type": "markdown",
   "id": "ea93c06b",
   "metadata": {
    "slideshow": {
     "slide_type": "slide"
    }
   },
   "source": [
    "# Summary \n",
    "\n",
    "<a class=\"anchor\" id=\"chapter1\"></a>\n",
    "\n",
    "- This bla bla\n",
    "- That bla bli\n",
    "- Usw usf\n"
   ]
  },
  {
   "cell_type": "code",
   "execution_count": null,
   "id": "14be4977",
   "metadata": {},
   "outputs": [],
   "source": []
  }
 ],
 "metadata": {
  "celltoolbar": "Slideshow",
  "kernelspec": {
   "display_name": "Python 3",
   "language": "python",
   "name": "python3"
  },
  "language_info": {
   "codemirror_mode": {
    "name": "ipython",
    "version": 3
   },
   "file_extension": ".py",
   "mimetype": "text/x-python",
   "name": "python",
   "nbconvert_exporter": "python",
   "pygments_lexer": "ipython3",
   "version": "3.8.8"
  },
  "rise": {
   "autolaunch": true,
   "backimage": "image1.png",
   "enable_chalkboard": true,
   "start_slideshow_at": "beginning"
  },
  "toc": {
   "base_numbering": 1,
   "nav_menu": {},
   "number_sections": true,
   "sideBar": true,
   "skip_h1_title": false,
   "title_cell": "Contents",
   "title_sidebar": "Contents",
   "toc_cell": true,
   "toc_position": {
    "height": "calc(100% - 180px)",
    "left": "10px",
    "top": "150px",
    "width": "517.1691284179688px"
   },
   "toc_section_display": true,
   "toc_window_display": false
  }
 },
 "nbformat": 4,
 "nbformat_minor": 5
}
